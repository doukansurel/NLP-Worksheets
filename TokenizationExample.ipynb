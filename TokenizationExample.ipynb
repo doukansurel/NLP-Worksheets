{
  "nbformat": 4,
  "nbformat_minor": 0,
  "metadata": {
    "colab": {
      "provenance": []
    },
    "kernelspec": {
      "name": "python3",
      "display_name": "Python 3"
    },
    "language_info": {
      "name": "python"
    }
  },
  "cells": [
    {
      "cell_type": "code",
      "execution_count": null,
      "metadata": {
        "id": "dKQW4gQKmQzf"
      },
      "outputs": [],
      "source": [
        "!pip install  nltk"
      ]
    },
    {
      "cell_type": "code",
      "source": [
        "corpus = \"\"\" Hello Welcome to Ali Doğukan Sürel's NLP Tutorials\n",
        "Please do watch the entire course! to become expert in NLP\n",
        "\"\"\""
      ],
      "metadata": {
        "id": "usfnKW60mvil"
      },
      "execution_count": null,
      "outputs": []
    },
    {
      "cell_type": "code",
      "source": [
        "display(corpus)"
      ],
      "metadata": {
        "colab": {
          "base_uri": "https://localhost:8080/",
          "height": 52
        },
        "id": "Na3vNx2fnEre",
        "outputId": "5db5fb3b-b322-487d-c6a3-ae1e96942eae"
      },
      "execution_count": null,
      "outputs": [
        {
          "output_type": "display_data",
          "data": {
            "text/plain": [
              "\" Hello Welcome to Ali Doğukan Sürel's NLP Tutorials\\nPlease do watch the entire course! to become expert in NLP\\n\""
            ],
            "application/vnd.google.colaboratory.intrinsic+json": {
              "type": "string"
            }
          },
          "metadata": {}
        }
      ]
    },
    {
      "cell_type": "code",
      "source": [
        "#Tokenization\n",
        "# Sentence => Paragraphs\n",
        "import nltk\n",
        "from nltk.tokenize import sent_tokenize\n",
        "nltk.download('punkt')"
      ],
      "metadata": {
        "colab": {
          "base_uri": "https://localhost:8080/"
        },
        "id": "j3IhTe4enF3Y",
        "outputId": "87486e44-6e60-413f-b8e8-5e35cf3620a7"
      },
      "execution_count": null,
      "outputs": [
        {
          "output_type": "stream",
          "name": "stderr",
          "text": [
            "[nltk_data] Downloading package punkt to /root/nltk_data...\n",
            "[nltk_data]   Unzipping tokenizers/punkt.zip.\n"
          ]
        },
        {
          "output_type": "execute_result",
          "data": {
            "text/plain": [
              "True"
            ]
          },
          "metadata": {},
          "execution_count": 13
        }
      ]
    },
    {
      "cell_type": "code",
      "source": [
        "document = sent_tokenize(corpus)"
      ],
      "metadata": {
        "id": "g_H0Wr1MnmCm"
      },
      "execution_count": null,
      "outputs": []
    },
    {
      "cell_type": "code",
      "source": [
        "type(document)"
      ],
      "metadata": {
        "colab": {
          "base_uri": "https://localhost:8080/"
        },
        "id": "wbMjwmdBnvXO",
        "outputId": "c4d0a37b-973d-4e5c-ccdd-6556fe581a8e"
      },
      "execution_count": null,
      "outputs": [
        {
          "output_type": "execute_result",
          "data": {
            "text/plain": [
              "list"
            ]
          },
          "metadata": {},
          "execution_count": 17
        }
      ]
    },
    {
      "cell_type": "code",
      "source": [
        "for sentence in document:\n",
        "    print(sentence)"
      ],
      "metadata": {
        "colab": {
          "base_uri": "https://localhost:8080/"
        },
        "id": "bNSVLDg_pDB_",
        "outputId": "277da5fc-4629-496e-bca3-5bd5176bfa65"
      },
      "execution_count": null,
      "outputs": [
        {
          "output_type": "stream",
          "name": "stdout",
          "text": [
            " Hello Welcome to Ali Doğukan Sürel's NLP Tutorials\n",
            "Please do watch the entire course!\n",
            "to become expert in NLP\n"
          ]
        }
      ]
    },
    {
      "cell_type": "code",
      "source": [
        "## Tokenization\n",
        "## Paragraph => words\n",
        "## sentence => words\n",
        "from nltk.tokenize import word_tokenize"
      ],
      "metadata": {
        "id": "3ebUsi0OpGZ-"
      },
      "execution_count": null,
      "outputs": []
    },
    {
      "cell_type": "code",
      "source": [
        "documents_ = word_tokenize(corpus)"
      ],
      "metadata": {
        "id": "45Agl3FLpXUy"
      },
      "execution_count": null,
      "outputs": []
    },
    {
      "cell_type": "code",
      "source": [
        "for sentence in documents_:\n",
        "    print(sentence)"
      ],
      "metadata": {
        "colab": {
          "base_uri": "https://localhost:8080/"
        },
        "id": "0Sqr5BSzpbg-",
        "outputId": "1a654625-b30c-441d-cd16-635e5689c5fd"
      },
      "execution_count": null,
      "outputs": [
        {
          "output_type": "stream",
          "name": "stdout",
          "text": [
            "Hello\n",
            "Welcome\n",
            "to\n",
            "Ali\n",
            "Doğukan\n",
            "Sürel\n",
            "'s\n",
            "NLP\n",
            "Tutorials\n",
            "Please\n",
            "do\n",
            "watch\n",
            "the\n",
            "entire\n",
            "course\n",
            "!\n",
            "to\n",
            "become\n",
            "expert\n",
            "in\n",
            "NLP\n"
          ]
        }
      ]
    },
    {
      "cell_type": "code",
      "source": [
        "from nltk.tokenize import wordpunct_tokenize"
      ],
      "metadata": {
        "id": "rgCa-56Qq61N"
      },
      "execution_count": null,
      "outputs": []
    },
    {
      "cell_type": "code",
      "source": [
        "document_1 = wordpunct_tokenize(corpus)"
      ],
      "metadata": {
        "id": "ZVfzzRHJrNxf"
      },
      "execution_count": null,
      "outputs": []
    },
    {
      "cell_type": "code",
      "source": [
        "for sentence in document_1:\n",
        "    print(sentence)"
      ],
      "metadata": {
        "colab": {
          "base_uri": "https://localhost:8080/"
        },
        "id": "9E7fTs4QrTO2",
        "outputId": "f01c84fa-b03f-4889-e8eb-d70b7c5600ca"
      },
      "execution_count": null,
      "outputs": [
        {
          "output_type": "stream",
          "name": "stdout",
          "text": [
            "Hello\n",
            "Welcome\n",
            "to\n",
            "Ali\n",
            "Doğukan\n",
            "Sürel\n",
            "'\n",
            "s\n",
            "NLP\n",
            "Tutorials\n",
            "Please\n",
            "do\n",
            "watch\n",
            "the\n",
            "entire\n",
            "course\n",
            "!\n",
            "to\n",
            "become\n",
            "expert\n",
            "in\n",
            "NLP\n"
          ]
        }
      ]
    },
    {
      "cell_type": "code",
      "source": [
        " from nltk.tokenize import TreebankWordTokenizer"
      ],
      "metadata": {
        "id": "Yy6wFVZrrWNb"
      },
      "execution_count": null,
      "outputs": []
    },
    {
      "cell_type": "code",
      "source": [
        "tokenizer = TreebankWordTokenizer()"
      ],
      "metadata": {
        "id": "L0rBrebprz9z"
      },
      "execution_count": null,
      "outputs": []
    },
    {
      "cell_type": "code",
      "source": [
        "document_2 = tokenizer.tokenize(corpus)"
      ],
      "metadata": {
        "id": "9GjbFjdbr5dH"
      },
      "execution_count": null,
      "outputs": []
    },
    {
      "cell_type": "code",
      "source": [
        "for sentence in document_2:\n",
        "    print(sentence)"
      ],
      "metadata": {
        "id": "Nq9PsJugsAVu",
        "outputId": "153aa1c5-2dd7-43c9-f7a1-b18f2b5a91c5",
        "colab": {
          "base_uri": "https://localhost:8080/"
        }
      },
      "execution_count": null,
      "outputs": [
        {
          "output_type": "stream",
          "name": "stdout",
          "text": [
            "Hello\n",
            "Welcome\n",
            "to\n",
            "Ali\n",
            "Doğukan\n",
            "Sürel\n",
            "'s\n",
            "NLP\n",
            "Tutorials\n",
            "Please\n",
            "do\n",
            "watch\n",
            "the\n",
            "entire\n",
            "course\n",
            "!\n",
            "to\n",
            "become\n",
            "expert\n",
            "in\n",
            "NLP\n"
          ]
        }
      ]
    },
    {
      "cell_type": "code",
      "source": [],
      "metadata": {
        "id": "Ui1OqhZisEbw"
      },
      "execution_count": null,
      "outputs": []
    }
  ]
}